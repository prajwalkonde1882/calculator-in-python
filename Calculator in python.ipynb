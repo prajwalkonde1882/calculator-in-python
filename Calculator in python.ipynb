{
 "cells": [
  {
   "cell_type": "code",
   "execution_count": 7,
   "id": "3d473e50-62d6-4585-adc3-5f5e6d972bcc",
   "metadata": {},
   "outputs": [
    {
     "name": "stdout",
     "output_type": "stream",
     "text": [
      "Select Operation = \n",
      "1. Addition \n",
      "2. Subtraction \n",
      "3. Multiplication \n",
      "4. Division \n",
      "\n"
     ]
    },
    {
     "name": "stdin",
     "output_type": "stream",
     "text": [
      "Selection Operation To Perform = 4\n",
      " 80\n",
      " 10\n"
     ]
    },
    {
     "name": "stdout",
     "output_type": "stream",
     "text": [
      "8.0\n"
     ]
    }
   ],
   "source": [
    "print('Select Operation = \\n' \\\n",
    "     '1. Addition \\n' \\\n",
    "     '2. Subtraction \\n' \\\n",
    "     '3. Multiplication \\n' \\\n",
    "     '4. Division \\n' )\n",
    "choose= int(input('Selection Operation To Perform ='))\n",
    "num1=int(input())\n",
    "num2=int(input())\n",
    "\n",
    "if choose==1:\n",
    "    print(num1+num2)\n",
    "elif choose==2:\n",
    "    print(num1-num2)\n",
    "elif choose==3:\n",
    "    print(num1*num2)\n",
    "else:\n",
    "    print(num1/num2)"
   ]
  },
  {
   "cell_type": "code",
   "execution_count": null,
   "id": "e904d73c-bc5b-42d8-8469-147d3b67973c",
   "metadata": {},
   "outputs": [],
   "source": []
  }
 ],
 "metadata": {
  "kernelspec": {
   "display_name": "Python 3 (ipykernel)",
   "language": "python",
   "name": "python3"
  },
  "language_info": {
   "codemirror_mode": {
    "name": "ipython",
    "version": 3
   },
   "file_extension": ".py",
   "mimetype": "text/x-python",
   "name": "python",
   "nbconvert_exporter": "python",
   "pygments_lexer": "ipython3",
   "version": "3.11.4"
  },
  "widgets": {
   "application/vnd.jupyter.widget-state+json": {
    "state": {},
    "version_major": 2,
    "version_minor": 0
   }
  }
 },
 "nbformat": 4,
 "nbformat_minor": 5
}
